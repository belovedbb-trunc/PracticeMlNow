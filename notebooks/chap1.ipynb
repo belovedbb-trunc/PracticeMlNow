{
 "cells": [
  {
   "cell_type": "code",
   "execution_count": 4,
   "metadata": {
    "collapsed": true,
    "pycharm": {
     "name": "#%%\n",
     "is_executing": false
    }
   },
   "outputs": [
    {
     "name": "stdout",
     "text": [
      "Hello\nA computer is said to learn from experience E,\nwrt task T with some performance measure\nP if and only if it's performance on\ntask T is measured by P with experience E\n"
     ],
     "output_type": "stream"
    }
   ],
   "source": [
    "print(\"Hello\")\n",
    "machine_learning = \"A computer is said to learn from experience E,\\n\" \\\n",
    "                   \"wrt task T with some performance measure\\n\" \\\n",
    "                   \"P if and only if it's performance on\\n\" \\\n",
    "                   \"task T is measured by P with experience E\"\n",
    "print(machine_learning)\n",
    "machine_learning_types = (\"supervised\", \"unsupervised\", \n",
    "                          \"semi-superviesed\", \"reinforcement\")\n",
    "explain_machine_learning_types = dict()\n",
    "explain_machine_learning_types[machine_learning_types[0]] = \"supervised:\" \\\n",
    "                                                            \" learn based\""
   ]
  }
 ],
 "metadata": {
  "kernelspec": {
   "display_name": "Python 3",
   "language": "python",
   "name": "python3"
  },
  "language_info": {
   "codemirror_mode": {
    "name": "ipython",
    "version": 2
   },
   "file_extension": ".py",
   "mimetype": "text/x-python",
   "name": "python",
   "nbconvert_exporter": "python",
   "pygments_lexer": "ipython2",
   "version": "2.7.6"
  },
  "pycharm": {
   "stem_cell": {
    "cell_type": "raw",
    "source": [],
    "metadata": {
     "collapsed": false
    }
   }
  }
 },
 "nbformat": 4,
 "nbformat_minor": 0
}