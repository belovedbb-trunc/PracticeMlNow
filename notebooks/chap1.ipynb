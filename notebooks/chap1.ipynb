{
 "cells": [
  {
   "cell_type": "code",
   "execution_count": 3,
   "metadata": {
    "collapsed": true,
    "pycharm": {
     "name": "#%%\n",
     "is_executing": false
    }
   },
   "outputs": [
    {
     "name": "stdout",
     "text": [
      "Hello\nA computer is said to learn from experience E,\nwrt task T with some performance measure\nP if and only if it's performance on\ntask T is measured by P with experience E\n('supervised', 'unsupervised', 'semi_supervised', 'reinforcement')\nsupervised:\n\n\n mainly, regressionand classification\n\n-K Nearest Neighbours\n-Linear Regression\n-Neural Network\n-Support Vector Machine\n-Decision Trees && Random Forest\n\nunsupervised:\n\n\nthink-clustering\nClustering-\n\n-K-Means\n-DBSCAN\n-Hierachical cluster analysis\nAnomaly Detection*\n\n*One class Support Vector Machine.\n*isolation forest\nVisual & Dimensionality Reduction&\n\n&PCA\n&kernel PCA\n&Locally Linear Embedding\n&t-distributed stochastic neighbour embedding\nAssociation Rule%\n\n%Apriori\n%eclat\nTHe learning system iscalled an agent, which learn by itself through actions and choose the best strategycalled policy\n"
     ],
     "output_type": "stream"
    }
   ],
   "source": [
    "print(\"Hello\")\n",
    "machine_learning = \"A computer is said to learn from experience E,\\n\" \\\n",
    "                   \"wrt task T with some performance measure\\n\" \\\n",
    "                   \"P if and only if it's performance on\\n\" \\\n",
    "                   \"task T is measured by P with experience E\"\n",
    "print(machine_learning)\n",
    "machine_learning_types = (\"supervised\", \"unsupervised\", \n",
    "                          \"semi_supervised\", \"reinforcement\")\n",
    "print(machine_learning_types)\n",
    "explain_machine_learning_types = dict()\n",
    "explain_machine_learning_types[machine_learning_types[0]] = \"supervised:\\n\\n\\n\" \\\n",
    "                                                            \" mainly, regression\" \\\n",
    "                                                            \"and classification\\n\\n\" \\\n",
    "                                                            \"-K Nearest Neighbours\\n\" \\\n",
    "                                                            \"-Linear Regression\\n\" \\\n",
    "                                                            \"-Neural Network\\n\" \\\n",
    "                                                            \"-Support Vector Machine\\n\" \\\n",
    "                                                            \"-Decision Trees && Random Forest\\n\"\n",
    "\n",
    "explain_machine_learning_types[machine_learning_types[1]] = \"unsupervised:\\n\\n\\n\" \\\n",
    "                                                            \"think-clustering\\n\" \\\n",
    "                                                            \"Clustering-\\n\\n\"\\\n",
    "                                                            \"-K-Means\\n\" \\\n",
    "                                                            \"-DBSCAN\\n\" \\\n",
    "                                                            \"-Hierachical cluster analysis\\n\" \\\n",
    "                                                            \"Anomaly Detection*\\n\\n\" \\\n",
    "                                                            \"*One class Support Vector Machine.\\n\" \\\n",
    "                                                            \"*isolation forest\\n\" \\\n",
    "                                                            \"Visual & Dimensionality Reduction&\\n\\n\" \\\n",
    "                                                            \"&PCA\\n\" \\\n",
    "                                                            \"&kernel PCA\\n\" \\\n",
    "                                                            \"&Locally Linear Embedding\\n\" \\\n",
    "                                                            \"&t-distributed stochastic neighbour embedding\\n\" \\\n",
    "                                                            \"Association Rule%\\n\\n\" \\\n",
    "                                                            \"%Apriori\\n\" \\\n",
    "                                                            \"%eclat\"\n",
    "explain_machine_learning_types[machine_learning_types[3]] = \"THe learning system is\" \\\n",
    "                                                            \"called an agent, which \" \\\n",
    "                                                            \"learn by itself through \" \\\n",
    "                                                            \"actions and choose the best strategy\" \\\n",
    "                                                            \"called policy\"\n",
    "for types_key in explain_machine_learning_types:\n",
    "    print(explain_machine_learning_types[types_key])\n",
    "    \n",
    "machine_learning_kind = {}\n",
    "machine_learning_kind[\"online\"] = \"learning incrementally as data is being fed\"\n",
    "machine_learning_kind[\"batch\"] = \"learning in mass\"\n",
    " "
   ]
  }
 ],
 "metadata": {
  "kernelspec": {
   "display_name": "Python 3",
   "language": "python",
   "name": "python3"
  },
  "language_info": {
   "codemirror_mode": {
    "name": "ipython",
    "version": 2
   },
   "file_extension": ".py",
   "mimetype": "text/x-python",
   "name": "python",
   "nbconvert_exporter": "python",
   "pygments_lexer": "ipython2",
   "version": "2.7.6"
  },
  "pycharm": {
   "stem_cell": {
    "cell_type": "raw",
    "source": [],
    "metadata": {
     "collapsed": false
    }
   }
  }
 },
 "nbformat": 4,
 "nbformat_minor": 0
}